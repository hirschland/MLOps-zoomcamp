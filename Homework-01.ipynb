{
 "cells": [
  {
   "cell_type": "markdown",
   "id": "c9027406",
   "metadata": {},
   "source": [
    "### Predicting the duration of a ride, using linear regression. Train on Jan '21 data, validate with Feb '21.\n",
    "\n",
    "Week 1 Homework for MLops-zoomcamp, DataTalks.Club https://github.com/DataTalksClub/mlops-zoomcamp\n",
    "\n",
    "Code created by Joshua Harvey, 2022\n",
    "joshuasharvey@gmail.com\n",
    "\n",
    "https://github.com/hirschland\n",
    "\n",
    "Running on AWS EC2, ubuntu\n",
    "\n",
    "Data from NYC Trip records, https://www1.nyc.gov/site/tlc/about/tlc-trip-record-data.page"
   ]
  },
  {
   "cell_type": "code",
   "execution_count": 11,
   "id": "55b76fcf",
   "metadata": {},
   "outputs": [],
   "source": [
    "import pandas as pd\n",
    "import numpy as np"
   ]
  },
  {
   "cell_type": "code",
   "execution_count": 2,
   "id": "ef3abe2c",
   "metadata": {},
   "outputs": [],
   "source": [
    "import seaborn as sns\n",
    "import matplotlib.pyplot as plt"
   ]
  },
  {
   "cell_type": "code",
   "execution_count": 3,
   "id": "c416e8e2",
   "metadata": {},
   "outputs": [],
   "source": [
    "from sklearn.feature_extraction import DictVectorizer\n",
    "from sklearn.linear_model import LinearRegression\n",
    "\n",
    "from sklearn.metrics import mean_squared_error"
   ]
  },
  {
   "cell_type": "markdown",
   "id": "0cefb1e9",
   "metadata": {},
   "source": [
    "# Q1. Download the data (Jan/Feb 2021 For-Hire Vehicle Trip Records"
   ]
  },
  {
   "cell_type": "code",
   "execution_count": 5,
   "id": "566b5cf5",
   "metadata": {},
   "outputs": [],
   "source": [
    "janfile = '~/notebooks/data/fhv_tripdata_2021-01.parquet'\n",
    "dfjan = pd.read_parquet(janfile)"
   ]
  },
  {
   "cell_type": "code",
   "execution_count": 7,
   "id": "e2bd1f71",
   "metadata": {},
   "outputs": [
    {
     "data": {
      "text/plain": [
       "<bound method DataFrame.info of         dispatching_base_num     pickup_datetime    dropOff_datetime  \\\n",
       "0                     B00009 2021-01-01 00:27:00 2021-01-01 00:44:00   \n",
       "1                     B00009 2021-01-01 00:50:00 2021-01-01 01:07:00   \n",
       "2                     B00013 2021-01-01 00:01:00 2021-01-01 01:51:00   \n",
       "3                     B00037 2021-01-01 00:13:09 2021-01-01 00:21:26   \n",
       "4                     B00037 2021-01-01 00:38:31 2021-01-01 00:53:44   \n",
       "...                      ...                 ...                 ...   \n",
       "1154107               B03266 2021-01-31 23:43:03 2021-01-31 23:51:48   \n",
       "1154108               B03284 2021-01-31 23:50:27 2021-02-01 00:48:03   \n",
       "1154109      B03285          2021-01-31 23:13:46 2021-01-31 23:29:58   \n",
       "1154110      B03285          2021-01-31 23:58:03 2021-02-01 00:17:29   \n",
       "1154111               B03321 2021-01-31 23:39:00 2021-02-01 00:15:00   \n",
       "\n",
       "         PUlocationID  DOlocationID SR_Flag Affiliated_base_number  \n",
       "0                 NaN           NaN    None                 B00009  \n",
       "1                 NaN           NaN    None                 B00009  \n",
       "2                 NaN           NaN    None                 B00013  \n",
       "3                 NaN          72.0    None                 B00037  \n",
       "4                 NaN          61.0    None                 B00037  \n",
       "...               ...           ...     ...                    ...  \n",
       "1154107           7.0           7.0    None                 B03266  \n",
       "1154108          44.0          91.0    None                         \n",
       "1154109         171.0         171.0    None        B03285           \n",
       "1154110          15.0          15.0    None        B03285           \n",
       "1154111           NaN           NaN    None                 B03321  \n",
       "\n",
       "[1154112 rows x 7 columns]>"
      ]
     },
     "execution_count": 7,
     "metadata": {},
     "output_type": "execute_result"
    }
   ],
   "source": [
    "dfjan.info"
   ]
  },
  {
   "cell_type": "markdown",
   "id": "b7311ed1",
   "metadata": {},
   "source": [
    "### There are 1,154,112 records for January"
   ]
  },
  {
   "cell_type": "markdown",
   "id": "349ad624",
   "metadata": {},
   "source": [
    "# Q2. Computing duration"
   ]
  },
  {
   "cell_type": "code",
   "execution_count": 12,
   "id": "961cdeac",
   "metadata": {},
   "outputs": [
    {
     "data": {
      "text/plain": [
       "19.1672240937939"
      ]
     },
     "execution_count": 12,
     "metadata": {},
     "output_type": "execute_result"
    }
   ],
   "source": [
    "dfjan['duration'] = dfjan.dropOff_datetime - dfjan.pickup_datetime\n",
    "# convert timedetla to total minutes (seconds/60)\n",
    "dfjan.duration = dfjan.duration.apply(lambda td: td.total_seconds() / 60)\n",
    "\n",
    "np.mean(dfjan.duration)"
   ]
  },
  {
   "cell_type": "markdown",
   "id": "ca67a5c3",
   "metadata": {},
   "source": [
    "### Average trip duration in January is 19.16 mins"
   ]
  },
  {
   "cell_type": "markdown",
   "id": "fddaf437",
   "metadata": {},
   "source": [
    "# Data preparation"
   ]
  },
  {
   "cell_type": "code",
   "execution_count": 15,
   "id": "09ef470d",
   "metadata": {},
   "outputs": [
    {
     "name": "stdout",
     "output_type": "stream",
     "text": [
      "<class 'pandas.core.frame.DataFrame'>\n",
      "Int64Index: 44286 entries, 2 to 1154031\n",
      "Data columns (total 8 columns):\n",
      " #   Column                  Non-Null Count  Dtype         \n",
      "---  ------                  --------------  -----         \n",
      " 0   dispatching_base_num    44286 non-null  object        \n",
      " 1   pickup_datetime         44286 non-null  datetime64[ns]\n",
      " 2   dropOff_datetime        44286 non-null  datetime64[ns]\n",
      " 3   PUlocationID            13027 non-null  float64       \n",
      " 4   DOlocationID            29973 non-null  float64       \n",
      " 5   SR_Flag                 0 non-null      object        \n",
      " 6   Affiliated_base_number  44174 non-null  object        \n",
      " 7   duration                44286 non-null  float64       \n",
      "dtypes: datetime64[ns](2), float64(3), object(3)\n",
      "memory usage: 3.0+ MB\n"
     ]
    }
   ],
   "source": [
    "# how mnay records have trips of duration between 1 and 60 mins?\n",
    "dfjan[(dfjan.duration < 1) | (dfjan.duration > 60)].info()"
   ]
  },
  {
   "cell_type": "markdown",
   "id": "647cb4ad",
   "metadata": {},
   "source": [
    "### Dropping 44,286 records"
   ]
  },
  {
   "cell_type": "code",
   "execution_count": 17,
   "id": "d7afc500",
   "metadata": {
    "scrolled": true
   },
   "outputs": [
    {
     "name": "stdout",
     "output_type": "stream",
     "text": [
      "<class 'pandas.core.frame.DataFrame'>\n",
      "Int64Index: 1109826 entries, 0 to 1154111\n",
      "Data columns (total 8 columns):\n",
      " #   Column                  Non-Null Count    Dtype         \n",
      "---  ------                  --------------    -----         \n",
      " 0   dispatching_base_num    1109826 non-null  object        \n",
      " 1   pickup_datetime         1109826 non-null  datetime64[ns]\n",
      " 2   dropOff_datetime        1109826 non-null  datetime64[ns]\n",
      " 3   PUlocationID            182818 non-null   float64       \n",
      " 4   DOlocationID            961919 non-null   float64       \n",
      " 5   SR_Flag                 0 non-null        object        \n",
      " 6   Affiliated_base_number  1109053 non-null  object        \n",
      " 7   duration                1109826 non-null  float64       \n",
      "dtypes: datetime64[ns](2), float64(3), object(3)\n",
      "memory usage: 76.2+ MB\n"
     ]
    }
   ],
   "source": [
    "dfjan = dfjan[(dfjan.duration >= 1) & (dfjan.duration <= 60)]\n",
    "dfjan.info()"
   ]
  },
  {
   "cell_type": "markdown",
   "id": "991b63e7",
   "metadata": {},
   "source": [
    "# Q3. Missing values"
   ]
  },
  {
   "cell_type": "code",
   "execution_count": 19,
   "id": "756f7b24",
   "metadata": {},
   "outputs": [
    {
     "data": {
      "text/plain": [
       "0.8352732770722617"
      ]
     },
     "execution_count": 19,
     "metadata": {},
     "output_type": "execute_result"
    }
   ],
   "source": [
    "dfjan = dfjan.fillna(-1)\n",
    "np.mean(dfjan.PUlocationID < 0)"
   ]
  },
  {
   "cell_type": "markdown",
   "id": "fca14921",
   "metadata": {},
   "source": [
    "### 83% of pickup location ID's were missing (and replaced with -1)"
   ]
  },
  {
   "cell_type": "markdown",
   "id": "fbbfea64",
   "metadata": {},
   "source": [
    "# Q4. One-hot encoding"
   ]
  },
  {
   "cell_type": "code",
   "execution_count": 24,
   "id": "a0d596cc",
   "metadata": {},
   "outputs": [],
   "source": [
    "categorical = ['PUlocationID','DOlocationID'] # features for categorical\n",
    "numerical = ['duration'] # what we will predict\n",
    "\n",
    "dfjan[categorical] = dfjan[categorical].astype(str)\n",
    "\n",
    "dv = DictVectorizer()\n",
    "\n",
    "train_dicts = dfjan[categorical].to_dict(orient='records')\n",
    "X_train = dv.fit_transform(train_dicts)\n"
   ]
  },
  {
   "cell_type": "code",
   "execution_count": 25,
   "id": "8e3b8fb6",
   "metadata": {},
   "outputs": [
    {
     "data": {
      "text/plain": [
       "(1109826, 525)"
      ]
     },
     "execution_count": 25,
     "metadata": {},
     "output_type": "execute_result"
    }
   ],
   "source": [
    "np.shape(X_train)"
   ]
  },
  {
   "cell_type": "markdown",
   "id": "f1d44340",
   "metadata": {},
   "source": [
    "### The dimensionality of our feature matrix is 525"
   ]
  },
  {
   "cell_type": "markdown",
   "id": "42210d51",
   "metadata": {},
   "source": [
    "# Q5. Training a model"
   ]
  },
  {
   "cell_type": "code",
   "execution_count": 26,
   "id": "19797d21",
   "metadata": {},
   "outputs": [],
   "source": [
    "target = 'duration'\n",
    "y_train = dfjan[target].values"
   ]
  },
  {
   "cell_type": "code",
   "execution_count": 27,
   "id": "aa0955f0",
   "metadata": {},
   "outputs": [
    {
     "data": {
      "text/plain": [
       "LinearRegression()"
      ]
     },
     "execution_count": 27,
     "metadata": {},
     "output_type": "execute_result"
    }
   ],
   "source": [
    "lr = LinearRegression()\n",
    "lr.fit(X_train, y_train) # train model"
   ]
  },
  {
   "cell_type": "code",
   "execution_count": 30,
   "id": "a596ccaa",
   "metadata": {},
   "outputs": [
    {
     "data": {
      "text/plain": [
       "10.5285191072072"
      ]
     },
     "execution_count": 30,
     "metadata": {},
     "output_type": "execute_result"
    }
   ],
   "source": [
    "y_pred = lr.predict(X_train) # predicting\n",
    "mean_squared_error(y_train, y_pred, squared=False) # evaluation"
   ]
  },
  {
   "cell_type": "markdown",
   "id": "a37bb263",
   "metadata": {},
   "source": [
    "### RMSE on train is 10.52"
   ]
  },
  {
   "cell_type": "markdown",
   "id": "c748a6be",
   "metadata": {},
   "source": [
    "# Q6. Evaluating the model"
   ]
  },
  {
   "cell_type": "code",
   "execution_count": 32,
   "id": "1143a20b",
   "metadata": {},
   "outputs": [],
   "source": [
    "# get validation data (February)\n",
    "febfile = '~/notebooks/data/fhv_tripdata_2021-02.parquet'\n",
    "dffeb = pd.read_parquet(febfile)\n",
    "dffeb['duration'] = dffeb.dropOff_datetime - dffeb.pickup_datetime\n",
    "dffeb.duration = dffeb.duration.apply(lambda td: td.total_seconds() / 60)\n",
    "dffeb = dffeb[(dffeb.duration >= 1) & (dffeb.duration <= 60)]\n",
    "dffeb = dffeb.fillna(-1)\n",
    "categorical = ['PUlocationID','DOlocationID'] # features for categorical\n",
    "dffeb[categorical] = dffeb[categorical].astype(str)\n"
   ]
  },
  {
   "cell_type": "code",
   "execution_count": 33,
   "id": "b573c405",
   "metadata": {},
   "outputs": [],
   "source": [
    "val_dicts = dffeb[categorical + numerical].to_dict(orient='records')\n",
    "X_val = dv.transform(val_dicts) # N.B. NOT 'fit_transform'"
   ]
  },
  {
   "cell_type": "code",
   "execution_count": 34,
   "id": "a0cf5a9f",
   "metadata": {},
   "outputs": [],
   "source": [
    "target = 'duration'\n",
    "y_train = dfjan[target].values\n",
    "y_val = dffeb[target].values"
   ]
  },
  {
   "cell_type": "code",
   "execution_count": 35,
   "id": "3d3af88e",
   "metadata": {},
   "outputs": [
    {
     "data": {
      "text/plain": [
       "11.014283163400654"
      ]
     },
     "execution_count": 35,
     "metadata": {},
     "output_type": "execute_result"
    }
   ],
   "source": [
    "lr = LinearRegression()\n",
    "lr.fit(X_train, y_train) # train model\n",
    "\n",
    "y_pred = lr.predict(X_val) # predicting\n",
    "\n",
    "mean_squared_error(y_val, y_pred, squared=False) # evaluation"
   ]
  },
  {
   "cell_type": "markdown",
   "id": "251d48aa",
   "metadata": {},
   "source": [
    "### RMSE on validation is 11.01"
   ]
  }
 ],
 "metadata": {
  "kernelspec": {
   "display_name": "Python 3 (ipykernel)",
   "language": "python",
   "name": "python3"
  },
  "language_info": {
   "codemirror_mode": {
    "name": "ipython",
    "version": 3
   },
   "file_extension": ".py",
   "mimetype": "text/x-python",
   "name": "python",
   "nbconvert_exporter": "python",
   "pygments_lexer": "ipython3",
   "version": "3.9.12"
  }
 },
 "nbformat": 4,
 "nbformat_minor": 5
}
