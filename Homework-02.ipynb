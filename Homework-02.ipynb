{
 "cells": [
  {
   "cell_type": "markdown",
   "id": "c9027406",
   "metadata": {},
   "source": [
    "## Predicting the duration of a ride, using linear regression. Train on Jan '21 data, validate with Feb '21.\n",
    "\n",
    "Week 2 Homework for MLops-zoomcamp, DataTalks.Club https://github.com/DataTalksClub/mlops-zoomcamp\n",
    "\n",
    "Code created by Joshua Harvey, 2022\n",
    "joshuasharvey@gmail.com\n",
    "\n",
    "https://github.com/hirschland\n",
    "\n",
    "Running on local machine\n",
    "\n",
    "Data from NYC Trip records, https://www1.nyc.gov/site/tlc/about/tlc-trip-record-data.page"
   ]
  },
  {
   "cell_type": "markdown",
   "id": "0cefb1e9",
   "metadata": {},
   "source": [
    "# Q1. Install MLflow"
   ]
  },
  {
   "cell_type": "code",
   "execution_count": 4,
   "id": "233ed103",
   "metadata": {},
   "outputs": [
    {
     "name": "stdout",
     "output_type": "stream",
     "text": [
      "# conda environments:\r\n",
      "#\r\n",
      "regnmf                   /Users/harvej05/.conda/envs/regnmf\r\n",
      "base                     /opt/anaconda3\r\n",
      "CaImAn                   /opt/anaconda3/envs/CaImAn\r\n",
      "caiman                   /opt/anaconda3/envs/caiman\r\n",
      "cellpose                 /opt/anaconda3/envs/cellpose\r\n",
      "exp-tracking          *  /opt/anaconda3/envs/exp-tracking\r\n",
      "hmm-env                  /opt/anaconda3/envs/hmm-env\r\n",
      "iML                      /opt/anaconda3/envs/iML\r\n",
      "locanmf                  /opt/anaconda3/envs/locanmf\r\n",
      "suite2p                  /opt/anaconda3/envs/suite2p\r\n",
      "\r\n"
     ]
    }
   ],
   "source": [
    "!conda env list"
   ]
  },
  {
   "cell_type": "markdown",
   "id": "b8171dfe",
   "metadata": {},
   "source": [
    "### Working in exp-tracking virtual environment"
   ]
  },
  {
   "cell_type": "code",
   "execution_count": 5,
   "id": "17c9da4e",
   "metadata": {},
   "outputs": [
    {
     "name": "stdout",
     "output_type": "stream",
     "text": [
      "mlflow, version 1.26.0\r\n"
     ]
    }
   ],
   "source": [
    "!mlflow --version"
   ]
  },
  {
   "cell_type": "markdown",
   "id": "fabb4068",
   "metadata": {},
   "source": [
    "### With version 1.26.0 of mlflow"
   ]
  },
  {
   "cell_type": "markdown",
   "id": "17f1180a",
   "metadata": {},
   "source": [
    "# Q2. Download and preprocess the data"
   ]
  },
  {
   "cell_type": "code",
   "execution_count": 13,
   "id": "8ec813ac",
   "metadata": {},
   "outputs": [
    {
     "name": "stdout",
     "output_type": "stream",
     "text": [
      "/Users/harvej05/Dropbox (Personal)/My Mac (HARVEJ05-MBP16T)/Documents/MLOps/mlops-zoomcamp/02-experiment-tracking/homework/data\n",
      "--2022-06-01 20:09:15--  https://s3.amazonaws.com/nyc-tlc/trip+data/green_tripdata_2021-01.parquet\n",
      "Resolving s3.amazonaws.com (s3.amazonaws.com)... 52.217.172.184\n",
      "Connecting to s3.amazonaws.com (s3.amazonaws.com)|52.217.172.184|:443... connected.\n",
      "HTTP request sent, awaiting response... 200 OK\n",
      "Length: 1333519 (1.3M) [binary/octet-stream]\n",
      "Saving to: ‘green_tripdata_2021-01.parquet’\n",
      "\n",
      "green_tripdata_2021 100%[===================>]   1.27M  --.-KB/s    in 0.1s    \n",
      "\n",
      "2022-06-01 20:09:16 (9.71 MB/s) - ‘green_tripdata_2021-01.parquet’ saved [1333519/1333519]\n",
      "\n",
      "--2022-06-01 20:09:16--  https://s3.amazonaws.com/nyc-tlc/trip+data/green_tripdata_2021-02.parquet\n",
      "Resolving s3.amazonaws.com (s3.amazonaws.com)... 52.217.172.184\n",
      "Connecting to s3.amazonaws.com (s3.amazonaws.com)|52.217.172.184|:443... connected.\n",
      "HTTP request sent, awaiting response... 200 OK\n",
      "Length: 1145679 (1.1M) [binary/octet-stream]\n",
      "Saving to: ‘green_tripdata_2021-02.parquet’\n",
      "\n",
      "green_tripdata_2021 100%[===================>]   1.09M  7.28MB/s    in 0.2s    \n",
      "\n",
      "2022-06-01 20:09:16 (7.28 MB/s) - ‘green_tripdata_2021-02.parquet’ saved [1145679/1145679]\n",
      "\n",
      "--2022-06-01 20:09:16--  https://s3.amazonaws.com/nyc-tlc/trip+data/green_tripdata_2021-03.parquet\n",
      "Resolving s3.amazonaws.com (s3.amazonaws.com)... 52.217.172.184\n",
      "Connecting to s3.amazonaws.com (s3.amazonaws.com)|52.217.172.184|:443... connected.\n",
      "HTTP request sent, awaiting response... 200 OK\n",
      "Length: 1474538 (1.4M) [binary/octet-stream]\n",
      "Saving to: ‘green_tripdata_2021-03.parquet’\n",
      "\n",
      "green_tripdata_2021 100%[===================>]   1.41M  9.08MB/s    in 0.2s    \n",
      "\n",
      "2022-06-01 20:09:17 (9.08 MB/s) - ‘green_tripdata_2021-03.parquet’ saved [1474538/1474538]\n",
      "\n",
      "/Users/harvej05/Dropbox (Personal)/My Mac (HARVEJ05-MBP16T)/Documents/MLOps/mlops-zoomcamp/02-experiment-tracking/homework\n"
     ]
    }
   ],
   "source": [
    "# download data\n",
    "!wget https://s3.amazonaws.com/nyc-tlc/trip+data/green_tripdata_2021-01.parquet\n",
    "!wget https://s3.amazonaws.com/nyc-tlc/trip+data/green_tripdata_2021-02.parquet\n",
    "!wget https://s3.amazonaws.com/nyc-tlc/trip+data/green_tripdata_2021-03.parquet\n",
    "%cd .."
   ]
  },
  {
   "cell_type": "code",
   "execution_count": 15,
   "id": "163cb576",
   "metadata": {},
   "outputs": [
    {
     "name": "stdout",
     "output_type": "stream",
     "text": [
      "/bin/bash: -c: line 0: syntax error near unexpected token `('\r\n",
      "/bin/bash: -c: line 0: `python /Users/harvej05/Documents/MLOps/mlops-zoomcamp/02-experiment-tracking/homework/preprocess_data.py --raw_data_path /Users/harvej05/Dropbox (Personal)/My Mac (HARVEJ05-MBP16T)/Documents/MLOps/mlops-zoomcamp/02-experiment-tracking/homework/data --dest_path ./output'\r\n"
     ]
    }
   ],
   "source": [
    "# preprocess data\n",
    "!python /Users/harvej05/Documents/MLOps/mlops-zoomcamp/02-experiment-tracking/homework/preprocess_data.py --raw_data_path /Users/harvej05/Dropbox (Personal)/My Mac (HARVEJ05-MBP16T)/Documents/MLOps/mlops-zoomcamp/02-experiment-tracking/homework/data --dest_path ./output"
   ]
  },
  {
   "cell_type": "markdown",
   "id": "47830728",
   "metadata": {},
   "source": [
    "### 4 files were saved to the output folder: dv.pkl, test.pkl, train.pkl, valid.pkl"
   ]
  },
  {
   "cell_type": "markdown",
   "id": "e5a78d33",
   "metadata": {},
   "source": [
    "# Q3. Train a model with autolog"
   ]
  },
  {
   "cell_type": "code",
   "execution_count": 16,
   "id": "465c27e5",
   "metadata": {},
   "outputs": [],
   "source": [
    "# edit train.py to enable autologging"
   ]
  },
  {
   "cell_type": "code",
   "execution_count": 27,
   "id": "5d6c64d5",
   "metadata": {},
   "outputs": [
    {
     "name": "stdout",
     "output_type": "stream",
     "text": [
      "2022/06/01 20:18:48 INFO mlflow.tracking.fluent: Experiment with name 'nyc-taxi' does not exist. Creating a new experiment.\n",
      "2022/06/01 20:18:48 WARNING mlflow.utils.autologging_utils: You are using an unsupported version of sklearn. If you encounter errors during autologging, try upgrading / downgrading sklearn to a supported version, or try upgrading MLflow.\n",
      "(Experiment)\n",
      "    experiment_id=0\n",
      "    name='Default'\n",
      "    artifact_location='artifacts/0'\n",
      "\n",
      "(Experiment)\n",
      "    experiment_id=4\n",
      "    name='nyc-taxi'\n",
      "    artifact_location='./mlruns/4'\n",
      "\n",
      "2022/06/01 20:19:08 WARNING mlflow.utils.autologging_utils: MLflow autologging encountered a warning: \"/opt/anaconda3/envs/exp-tracking/lib/python3.9/site-packages/_distutils_hack/__init__.py:30: UserWarning: Setuptools is replacing distutils.\"\n"
     ]
    }
   ],
   "source": [
    "!python /Users/harvej05/Documents/MLOps/mlops-zoomcamp/02-experiment-tracking/homework/train.py"
   ]
  },
  {
   "cell_type": "markdown",
   "id": "0b87eb23",
   "metadata": {},
   "source": [
    "### There are 17 parameters logged by MLflow"
   ]
  },
  {
   "cell_type": "markdown",
   "id": "3f205fd4",
   "metadata": {},
   "source": [
    "# Q4. Launch the tracking server locally"
   ]
  },
  {
   "cell_type": "code",
   "execution_count": null,
   "id": "ea9ec94f",
   "metadata": {},
   "outputs": [],
   "source": [
    "#mlflow server --backend-store-uri sqlite:///mlflow.db --default-artifact-root ./mlruns"
   ]
  },
  {
   "cell_type": "markdown",
   "id": "b23ed715",
   "metadata": {},
   "source": [
    "# Q5. Tune the hyperparameters of the model\n"
   ]
  },
  {
   "cell_type": "code",
   "execution_count": 38,
   "id": "92445502",
   "metadata": {},
   "outputs": [
    {
     "name": "stdout",
     "output_type": "stream",
     "text": [
      "100%|█████████| 50/50 [06:41<00:00,  8.02s/trial, best loss: 6.6284257482044735]\n"
     ]
    }
   ],
   "source": [
    "!python /Users/harvej05/Documents/MLOps/mlops-zoomcamp/02-experiment-tracking/homework/hpo.py"
   ]
  },
  {
   "cell_type": "markdown",
   "id": "78fa1532",
   "metadata": {},
   "source": [
    "### Best validation RMSE is 6.628, for max depth=19, min_samples_leaf=3, min_samples_split=5"
   ]
  },
  {
   "cell_type": "markdown",
   "id": "c8c23d95",
   "metadata": {},
   "source": [
    "# Q6. Promote the best model to the model registry\n"
   ]
  },
  {
   "cell_type": "code",
   "execution_count": 39,
   "id": "dfe99f06",
   "metadata": {},
   "outputs": [
    {
     "name": "stdout",
     "output_type": "stream",
     "text": [
      "2022/06/01 21:12:19 WARNING mlflow.utils.autologging_utils: You are using an unsupported version of sklearn. If you encounter errors during autologging, try upgrading / downgrading sklearn to a supported version, or try upgrading MLflow.\n",
      "2022/06/01 21:12:32 WARNING mlflow.utils.autologging_utils: MLflow autologging encountered a warning: \"/opt/anaconda3/envs/exp-tracking/lib/python3.9/site-packages/_distutils_hack/__init__.py:30: UserWarning: Setuptools is replacing distutils.\"\n",
      "Registered model 'nyc-taxi-promoted' already exists. Creating a new version of this model...\n",
      "2022/06/01 21:13:03 INFO mlflow.tracking._model_registry.client: Waiting up to 300 seconds for model version to finish creation.                     Model name: nyc-taxi-promoted, version 2\n",
      "Created version '2' of model 'nyc-taxi-promoted'.\n"
     ]
    }
   ],
   "source": [
    "!python /Users/harvej05/Documents/MLOps/mlops-zoomcamp/02-experiment-tracking/homework/register_model.py"
   ]
  },
  {
   "cell_type": "markdown",
   "id": "12939411",
   "metadata": {},
   "source": [
    "### RMSE of best model is 6.5"
   ]
  },
  {
   "cell_type": "code",
   "execution_count": null,
   "id": "2a1ea716",
   "metadata": {},
   "outputs": [],
   "source": []
  }
 ],
 "metadata": {
  "kernelspec": {
   "display_name": "Python 3 (ipykernel)",
   "language": "python",
   "name": "python3"
  },
  "language_info": {
   "codemirror_mode": {
    "name": "ipython",
    "version": 3
   },
   "file_extension": ".py",
   "mimetype": "text/x-python",
   "name": "python",
   "nbconvert_exporter": "python",
   "pygments_lexer": "ipython3",
   "version": "3.9.12"
  }
 },
 "nbformat": 4,
 "nbformat_minor": 5
}
